{
 "cells": [
  {
   "cell_type": "markdown",
   "id": "a304ef0b",
   "metadata": {},
   "source": [
    "<h1>install dan import library</h1>"
   ]
  },
  {
   "cell_type": "markdown",
   "id": "6c4ae281",
   "metadata": {},
   "source": [
    "install library python"
   ]
  },
  {
   "cell_type": "code",
   "execution_count": null,
   "id": "043743f4",
   "metadata": {
    "vscode": {
     "languageId": "bat"
    }
   },
   "outputs": [
    {
     "name": "stdout",
     "output_type": "stream",
     "text": [
      "Requirement already satisfied: pandas in d:\\essential\\python\\lib\\site-packages (2.3.3)\n",
      "Requirement already satisfied: matplotlib in d:\\essential\\python\\lib\\site-packages (3.10.7)\n",
      "Requirement already satisfied: seaborn in d:\\essential\\python\\lib\\site-packages (0.13.2)\n",
      "Requirement already satisfied: numpy in d:\\essential\\python\\lib\\site-packages (2.3.3)\n",
      "Requirement already satisfied: python-dateutil>=2.8.2 in d:\\essential\\python\\lib\\site-packages (from pandas) (2.9.0.post0)\n",
      "Requirement already satisfied: pytz>=2020.1 in d:\\essential\\python\\lib\\site-packages (from pandas) (2025.2)\n",
      "Requirement already satisfied: tzdata>=2022.7 in d:\\essential\\python\\lib\\site-packages (from pandas) (2025.2)\n",
      "Requirement already satisfied: contourpy>=1.0.1 in d:\\essential\\python\\lib\\site-packages (from matplotlib) (1.3.3)\n",
      "Requirement already satisfied: cycler>=0.10 in d:\\essential\\python\\lib\\site-packages (from matplotlib) (0.12.1)\n",
      "Requirement already satisfied: fonttools>=4.22.0 in d:\\essential\\python\\lib\\site-packages (from matplotlib) (4.60.1)\n",
      "Requirement already satisfied: kiwisolver>=1.3.1 in d:\\essential\\python\\lib\\site-packages (from matplotlib) (1.4.9)\n",
      "Requirement already satisfied: packaging>=20.0 in d:\\essential\\python\\lib\\site-packages (from matplotlib) (25.0)\n",
      "Requirement already satisfied: pillow>=8 in d:\\essential\\python\\lib\\site-packages (from matplotlib) (11.3.0)\n",
      "Requirement already satisfied: pyparsing>=3 in d:\\essential\\python\\lib\\site-packages (from matplotlib) (3.2.5)\n",
      "Requirement already satisfied: six>=1.5 in d:\\essential\\python\\lib\\site-packages (from python-dateutil>=2.8.2->pandas) (1.17.0)\n"
     ]
    }
   ],
   "source": [
    "!pip install pandas matplotlib seaborn numpy"
   ]
  },
  {
   "cell_type": "markdown",
   "id": "fa72d7f9",
   "metadata": {},
   "source": [
    "import library"
   ]
  },
  {
   "cell_type": "code",
   "execution_count": 2,
   "id": "3dffcd29",
   "metadata": {},
   "outputs": [],
   "source": [
    "import pandas as pd\n",
    "import matplotlib.pyplot as plt\n",
    "import seaborn as sns\n",
    "import numpy as np\n"
   ]
  },
  {
   "cell_type": "markdown",
   "id": "1c1f700f",
   "metadata": {},
   "source": [
    "import data dari file csv"
   ]
  },
  {
   "cell_type": "code",
   "execution_count": 3,
   "id": "24ea8114",
   "metadata": {},
   "outputs": [],
   "source": [
    "\n",
    "df = pd.read_csv(\"indonesian-names.csv\")\n"
   ]
  },
  {
   "cell_type": "markdown",
   "id": "3a5502bb",
   "metadata": {},
   "source": [
    "lihat data"
   ]
  },
  {
   "cell_type": "code",
   "execution_count": 4,
   "id": "163a2b65",
   "metadata": {},
   "outputs": [
    {
     "data": {
      "text/html": [
       "<div>\n",
       "<style scoped>\n",
       "    .dataframe tbody tr th:only-of-type {\n",
       "        vertical-align: middle;\n",
       "    }\n",
       "\n",
       "    .dataframe tbody tr th {\n",
       "        vertical-align: top;\n",
       "    }\n",
       "\n",
       "    .dataframe thead th {\n",
       "        text-align: right;\n",
       "    }\n",
       "</style>\n",
       "<table border=\"1\" class=\"dataframe\">\n",
       "  <thead>\n",
       "    <tr style=\"text-align: right;\">\n",
       "      <th></th>\n",
       "      <th>Nama</th>\n",
       "      <th>Jenis_Kelamin</th>\n",
       "    </tr>\n",
       "  </thead>\n",
       "  <tbody>\n",
       "    <tr>\n",
       "      <th>0</th>\n",
       "      <td>hafizhan shidqi</td>\n",
       "      <td>m</td>\n",
       "    </tr>\n",
       "    <tr>\n",
       "      <th>1</th>\n",
       "      <td>gandhi wibowo</td>\n",
       "      <td>m</td>\n",
       "    </tr>\n",
       "    <tr>\n",
       "      <th>2</th>\n",
       "      <td>aldio mahendra purwandrarto</td>\n",
       "      <td>m</td>\n",
       "    </tr>\n",
       "    <tr>\n",
       "      <th>3</th>\n",
       "      <td>benny putra</td>\n",
       "      <td>m</td>\n",
       "    </tr>\n",
       "    <tr>\n",
       "      <th>4</th>\n",
       "      <td>vicky vernando dasta</td>\n",
       "      <td>m</td>\n",
       "    </tr>\n",
       "    <tr>\n",
       "      <th>...</th>\n",
       "      <td>...</td>\n",
       "      <td>...</td>\n",
       "    </tr>\n",
       "    <tr>\n",
       "      <th>1955</th>\n",
       "      <td>hadimah</td>\n",
       "      <td>f</td>\n",
       "    </tr>\n",
       "    <tr>\n",
       "      <th>1956</th>\n",
       "      <td>aprillia rahma wati</td>\n",
       "      <td>f</td>\n",
       "    </tr>\n",
       "    <tr>\n",
       "      <th>1957</th>\n",
       "      <td>muhamad khoirunisa. m</td>\n",
       "      <td>m</td>\n",
       "    </tr>\n",
       "    <tr>\n",
       "      <th>1958</th>\n",
       "      <td>sukandi</td>\n",
       "      <td>m</td>\n",
       "    </tr>\n",
       "    <tr>\n",
       "      <th>1959</th>\n",
       "      <td>eem</td>\n",
       "      <td>f</td>\n",
       "    </tr>\n",
       "  </tbody>\n",
       "</table>\n",
       "<p>1960 rows × 2 columns</p>\n",
       "</div>"
      ],
      "text/plain": [
       "                             Nama Jenis_Kelamin\n",
       "0                 hafizhan shidqi             m\n",
       "1                   gandhi wibowo             m\n",
       "2     aldio mahendra purwandrarto             m\n",
       "3                     benny putra             m\n",
       "4            vicky vernando dasta             m\n",
       "...                           ...           ...\n",
       "1955                      hadimah             f\n",
       "1956          aprillia rahma wati             f\n",
       "1957        muhamad khoirunisa. m             m\n",
       "1958                      sukandi             m\n",
       "1959                          eem             f\n",
       "\n",
       "[1960 rows x 2 columns]"
      ]
     },
     "execution_count": 4,
     "metadata": {},
     "output_type": "execute_result"
    }
   ],
   "source": [
    "df"
   ]
  },
  {
   "cell_type": "markdown",
   "id": "dc5c2edc",
   "metadata": {},
   "source": [
    "<h1>Cleaning Data</h1>"
   ]
  },
  {
   "cell_type": "code",
   "execution_count": null,
   "id": "b766e353",
   "metadata": {},
   "outputs": [
    {
     "data": {
      "text/html": [
       "<div>\n",
       "<style scoped>\n",
       "    .dataframe tbody tr th:only-of-type {\n",
       "        vertical-align: middle;\n",
       "    }\n",
       "\n",
       "    .dataframe tbody tr th {\n",
       "        vertical-align: top;\n",
       "    }\n",
       "\n",
       "    .dataframe thead th {\n",
       "        text-align: right;\n",
       "    }\n",
       "</style>\n",
       "<table border=\"1\" class=\"dataframe\">\n",
       "  <thead>\n",
       "    <tr style=\"text-align: right;\">\n",
       "      <th></th>\n",
       "      <th>Nama</th>\n",
       "      <th>Jenis_Kelamin</th>\n",
       "    </tr>\n",
       "  </thead>\n",
       "  <tbody>\n",
       "    <tr>\n",
       "      <th>0</th>\n",
       "      <td>hafizhan shidqi</td>\n",
       "      <td>m</td>\n",
       "    </tr>\n",
       "    <tr>\n",
       "      <th>1</th>\n",
       "      <td>gandhi wibowo</td>\n",
       "      <td>m</td>\n",
       "    </tr>\n",
       "    <tr>\n",
       "      <th>2</th>\n",
       "      <td>aldio mahendra purwandrarto</td>\n",
       "      <td>m</td>\n",
       "    </tr>\n",
       "    <tr>\n",
       "      <th>3</th>\n",
       "      <td>benny putra</td>\n",
       "      <td>m</td>\n",
       "    </tr>\n",
       "    <tr>\n",
       "      <th>4</th>\n",
       "      <td>vicky vernando dasta</td>\n",
       "      <td>m</td>\n",
       "    </tr>\n",
       "    <tr>\n",
       "      <th>...</th>\n",
       "      <td>...</td>\n",
       "      <td>...</td>\n",
       "    </tr>\n",
       "    <tr>\n",
       "      <th>1955</th>\n",
       "      <td>hadimah</td>\n",
       "      <td>f</td>\n",
       "    </tr>\n",
       "    <tr>\n",
       "      <th>1956</th>\n",
       "      <td>aprillia rahma wati</td>\n",
       "      <td>f</td>\n",
       "    </tr>\n",
       "    <tr>\n",
       "      <th>1957</th>\n",
       "      <td>muhamad khoirunisa. m</td>\n",
       "      <td>m</td>\n",
       "    </tr>\n",
       "    <tr>\n",
       "      <th>1958</th>\n",
       "      <td>sukandi</td>\n",
       "      <td>m</td>\n",
       "    </tr>\n",
       "    <tr>\n",
       "      <th>1959</th>\n",
       "      <td>eem</td>\n",
       "      <td>f</td>\n",
       "    </tr>\n",
       "  </tbody>\n",
       "</table>\n",
       "<p>1796 rows × 2 columns</p>\n",
       "</div>"
      ],
      "text/plain": [
       "                             Nama Jenis_Kelamin\n",
       "0                 hafizhan shidqi             m\n",
       "1                   gandhi wibowo             m\n",
       "2     aldio mahendra purwandrarto             m\n",
       "3                     benny putra             m\n",
       "4            vicky vernando dasta             m\n",
       "...                           ...           ...\n",
       "1955                      hadimah             f\n",
       "1956          aprillia rahma wati             f\n",
       "1957        muhamad khoirunisa. m             m\n",
       "1958                      sukandi             m\n",
       "1959                          eem             f\n",
       "\n",
       "[1796 rows x 2 columns]"
      ]
     },
     "execution_count": 5,
     "metadata": {},
     "output_type": "execute_result"
    }
   ],
   "source": [
    "df = (\n",
    "    df\n",
    "    .dropna()\n",
    "    .drop_duplicates()\n",
    ")\n",
    "df = df.select_dtypes(include='object')\n",
    "df"
   ]
  },
  {
   "cell_type": "markdown",
   "id": "601c4d2f",
   "metadata": {},
   "source": [
    "<h1>Distribusi nama berdasarkan kelamin</h1>"
   ]
  },
  {
   "cell_type": "code",
   "execution_count": 6,
   "id": "93f63dd0",
   "metadata": {},
   "outputs": [
    {
     "data": {
      "image/png": "[encoded data removed]",
      "text/plain": [
       "<Figure size 640x480 with 1 Axes>"
      ]
     },
     "metadata": {},
     "output_type": "display_data"
    }
   ],
   "source": [
    "sns.countplot(x='Jenis_Kelamin', data=df,palette={'m':'skyblue','f':'pink'},hue='Jenis_Kelamin',legend=False)\n",
    "plt.title('Distribusi Nama Berdasarkan Kelamin')\n",
    "plt.xlabel('Jenis Kelamin')\n",
    "plt.ylabel('Jumlah')\n",
    "plt.show()"
   ]
  },
  {
   "cell_type": "markdown",
   "id": "98195a31",
   "metadata": {},
   "source": [
    "<h1>frekuensi banyak kata dalam sebuah nama</h1>"
   ]
  },
  {
   "cell_type": "code",
   "execution_count": null,
   "id": "16a66db6",
   "metadata": {},
   "outputs": [],
   "source": []
  },
  {
   "cell_type": "markdown",
   "id": "90ccf916",
   "metadata": {},
   "source": [
    "<h1>Nama dengan frekuensi paling sering</h1>"
   ]
  },
  {
   "cell_type": "markdown",
   "id": "aa863dfd",
   "metadata": {},
   "source": [
    "<h3>persiapan data</h3>"
   ]
  },
  {
   "cell_type": "code",
   "execution_count": 29,
   "id": "8bf1ff0b",
   "metadata": {},
   "outputs": [],
   "source": [
    "nama_split = df['Nama'].astype(str).str.split()\n",
    "df['First_Name'] = nama_split.str[0].str.title()\n",
    "df['Last_Name']  = nama_split.str[1].where(nama_split.str.len() >= 2).str.title() \n",
    "\n",
    "#M=muhammad\n",
    "df['First_Name']=df['First_Name'].replace('M.','Muhammad')\n",
    "\n",
    "#data frame frekuensi nama awal\n",
    "first_name_freq = df['First_Name'].value_counts().reset_index()\n",
    "first_name_freq.columns = ['First_Name', 'Frekuensi']\n",
    "#data frame frekuensi nama akhir\n",
    "last_name_freq = df['Last_Name'].value_counts().reset_index()\n",
    "last_name_freq.columns = ['Last_Name', 'Frekuensi']"
   ]
  },
  {
   "cell_type": "code",
   "execution_count": 30,
   "id": "fee08853",
   "metadata": {},
   "outputs": [
    {
     "name": "stdout",
     "output_type": "stream",
     "text": [
      "Top 10 Frekuensi First Name\n"
     ]
    },
    {
     "data": {
      "text/html": [
       "<div>\n",
       "<style scoped>\n",
       "    .dataframe tbody tr th:only-of-type {\n",
       "        vertical-align: middle;\n",
       "    }\n",
       "\n",
       "    .dataframe tbody tr th {\n",
       "        vertical-align: top;\n",
       "    }\n",
       "\n",
       "    .dataframe thead th {\n",
       "        text-align: right;\n",
       "    }\n",
       "</style>\n",
       "<table border=\"1\" class=\"dataframe\">\n",
       "  <thead>\n",
       "    <tr style=\"text-align: right;\">\n",
       "      <th></th>\n",
       "      <th>First_Name</th>\n",
       "      <th>Frekuensi</th>\n",
       "    </tr>\n",
       "  </thead>\n",
       "  <tbody>\n",
       "    <tr>\n",
       "      <th>0</th>\n",
       "      <td>Muhammad</td>\n",
       "      <td>82</td>\n",
       "    </tr>\n",
       "    <tr>\n",
       "      <th>1</th>\n",
       "      <td>Siti</td>\n",
       "      <td>35</td>\n",
       "    </tr>\n",
       "    <tr>\n",
       "      <th>2</th>\n",
       "      <td>Ahmad</td>\n",
       "      <td>25</td>\n",
       "    </tr>\n",
       "    <tr>\n",
       "      <th>3</th>\n",
       "      <td>Sri</td>\n",
       "      <td>17</td>\n",
       "    </tr>\n",
       "    <tr>\n",
       "      <th>4</th>\n",
       "      <td>Nur</td>\n",
       "      <td>15</td>\n",
       "    </tr>\n",
       "    <tr>\n",
       "      <th>5</th>\n",
       "      <td>Dewi</td>\n",
       "      <td>15</td>\n",
       "    </tr>\n",
       "    <tr>\n",
       "      <th>6</th>\n",
       "      <td>Tri</td>\n",
       "      <td>14</td>\n",
       "    </tr>\n",
       "    <tr>\n",
       "      <th>7</th>\n",
       "      <td>Eka</td>\n",
       "      <td>9</td>\n",
       "    </tr>\n",
       "    <tr>\n",
       "      <th>8</th>\n",
       "      <td>Agus</td>\n",
       "      <td>9</td>\n",
       "    </tr>\n",
       "    <tr>\n",
       "      <th>9</th>\n",
       "      <td>Abdul</td>\n",
       "      <td>9</td>\n",
       "    </tr>\n",
       "  </tbody>\n",
       "</table>\n",
       "</div>"
      ],
      "text/plain": [
       "  First_Name  Frekuensi\n",
       "0   Muhammad         82\n",
       "1       Siti         35\n",
       "2      Ahmad         25\n",
       "3        Sri         17\n",
       "4        Nur         15\n",
       "5       Dewi         15\n",
       "6        Tri         14\n",
       "7        Eka          9\n",
       "8       Agus          9\n",
       "9      Abdul          9"
      ]
     },
     "execution_count": 30,
     "metadata": {},
     "output_type": "execute_result"
    }
   ],
   "source": [
    "print(\"Top 10 Frekuensi First Name\")\n",
    "first_name_freq.head(10)  "
   ]
  },
  {
   "cell_type": "code",
   "execution_count": 31,
   "id": "7016bd81",
   "metadata": {},
   "outputs": [
    {
     "name": "stdout",
     "output_type": "stream",
     "text": [
      "Top 10 Frekuensi Last Name\n"
     ]
    },
    {
     "data": {
      "text/html": [
       "<div>\n",
       "<style scoped>\n",
       "    .dataframe tbody tr th:only-of-type {\n",
       "        vertical-align: middle;\n",
       "    }\n",
       "\n",
       "    .dataframe tbody tr th {\n",
       "        vertical-align: top;\n",
       "    }\n",
       "\n",
       "    .dataframe thead th {\n",
       "        text-align: right;\n",
       "    }\n",
       "</style>\n",
       "<table border=\"1\" class=\"dataframe\">\n",
       "  <thead>\n",
       "    <tr style=\"text-align: right;\">\n",
       "      <th></th>\n",
       "      <th>Last_Name</th>\n",
       "      <th>Frekuensi</th>\n",
       "    </tr>\n",
       "  </thead>\n",
       "  <tbody>\n",
       "    <tr>\n",
       "      <th>0</th>\n",
       "      <td>Dwi</td>\n",
       "      <td>25</td>\n",
       "    </tr>\n",
       "    <tr>\n",
       "      <th>1</th>\n",
       "      <td>Nur</td>\n",
       "      <td>16</td>\n",
       "    </tr>\n",
       "    <tr>\n",
       "      <th>2</th>\n",
       "      <td>Ayu</td>\n",
       "      <td>12</td>\n",
       "    </tr>\n",
       "    <tr>\n",
       "      <th>3</th>\n",
       "      <td>Lestari</td>\n",
       "      <td>12</td>\n",
       "    </tr>\n",
       "    <tr>\n",
       "      <th>4</th>\n",
       "      <td>Kurniawan</td>\n",
       "      <td>11</td>\n",
       "    </tr>\n",
       "    <tr>\n",
       "      <th>5</th>\n",
       "      <td>Tri</td>\n",
       "      <td>10</td>\n",
       "    </tr>\n",
       "    <tr>\n",
       "      <th>6</th>\n",
       "      <td>Maulana</td>\n",
       "      <td>9</td>\n",
       "    </tr>\n",
       "    <tr>\n",
       "      <th>7</th>\n",
       "      <td>Putra</td>\n",
       "      <td>8</td>\n",
       "    </tr>\n",
       "    <tr>\n",
       "      <th>8</th>\n",
       "      <td>Al</td>\n",
       "      <td>8</td>\n",
       "    </tr>\n",
       "    <tr>\n",
       "      <th>9</th>\n",
       "      <td>Setiawan</td>\n",
       "      <td>8</td>\n",
       "    </tr>\n",
       "  </tbody>\n",
       "</table>\n",
       "</div>"
      ],
      "text/plain": [
       "   Last_Name  Frekuensi\n",
       "0        Dwi         25\n",
       "1        Nur         16\n",
       "2        Ayu         12\n",
       "3    Lestari         12\n",
       "4  Kurniawan         11\n",
       "5        Tri         10\n",
       "6    Maulana          9\n",
       "7      Putra          8\n",
       "8         Al          8\n",
       "9   Setiawan          8"
      ]
     },
     "execution_count": 31,
     "metadata": {},
     "output_type": "execute_result"
    }
   ],
   "source": [
    "print(\"Top 10 Frekuensi Last Name\")\n",
    "last_name_freq.head(10)"
   ]
  },
  {
   "cell_type": "markdown",
   "id": "b520386e",
   "metadata": {},
   "source": [
    "<h3>bar chart untuk frekuensi nama awal</h3>"
   ]
  },
  {
   "cell_type": "code",
   "execution_count": 43,
   "id": "083cb84a",
   "metadata": {},
   "outputs": [
    {
     "data": {
      "image/png": "[encoded data removed]",
      "text/plain": [
       "<Figure size 1000x600 with 1 Axes>"
      ]
     },
     "metadata": {},
     "output_type": "display_data"
    }
   ],
   "source": [
    "# Bar chart for First Name\n",
    "plt.figure(figsize=(10, 6))\n",
    "sns.barplot(x='Frekuensi', y='First_Name', data=first_name_freq.head(10),hue='First_Name', palette='Blues_r')\n",
    "plt.title('Top 10 First Names')\n",
    "plt.xlabel('Frequency')\n",
    "plt.ylabel('First Name')\n",
    "plt.show()"
   ]
  },
  {
   "cell_type": "markdown",
   "id": "95f57eb3",
   "metadata": {},
   "source": [
    "<h3>bar chart untuk frekuensi nama akhir</h3>"
   ]
  },
  {
   "cell_type": "code",
   "execution_count": 42,
   "id": "31b7903d",
   "metadata": {},
   "outputs": [
    {
     "data": {
      "image/png": "[encoded data removed]",
      "text/plain": [
       "<Figure size 1000x600 with 1 Axes>"
      ]
     },
     "metadata": {},
     "output_type": "display_data"
    }
   ],
   "source": [
    "\n",
    "plt.figure(figsize=(10, 6))\n",
    "sns.barplot(x='Frekuensi', y='Last_Name', data=last_name_freq.head(10),hue='Last_Name', palette='Reds_r')\n",
    "plt.title('Top 10 Last Names')\n",
    "plt.xlabel('Frequency')\n",
    "plt.ylabel('Last Name')\n",
    "plt.show()"
   ]
  },
  {
   "cell_type": "markdown",
   "id": "22d1b376",
   "metadata": {},
   "source": [
    "<h1>panjang nama</h1>"
   ]
  },
  {
   "cell_type": "code",
   "execution_count": 32,
   "id": "278b853d",
   "metadata": {},
   "outputs": [
    {
     "data": {
      "text/html": [
       "<div>\n",
       "<style scoped>\n",
       "    .dataframe tbody tr th:only-of-type {\n",
       "        vertical-align: middle;\n",
       "    }\n",
       "\n",
       "    .dataframe tbody tr th {\n",
       "        vertical-align: top;\n",
       "    }\n",
       "\n",
       "    .dataframe thead th {\n",
       "        text-align: right;\n",
       "    }\n",
       "</style>\n",
       "<table border=\"1\" class=\"dataframe\">\n",
       "  <thead>\n",
       "    <tr style=\"text-align: right;\">\n",
       "      <th></th>\n",
       "      <th>Nama</th>\n",
       "      <th>Jenis_Kelamin</th>\n",
       "      <th>panjang_nama</th>\n",
       "      <th>First_Name</th>\n",
       "      <th>Last_Name</th>\n",
       "    </tr>\n",
       "  </thead>\n",
       "  <tbody>\n",
       "    <tr>\n",
       "      <th>0</th>\n",
       "      <td>hafizhan shidqi</td>\n",
       "      <td>m</td>\n",
       "      <td>15</td>\n",
       "      <td>Hafizhan</td>\n",
       "      <td>Shidqi</td>\n",
       "    </tr>\n",
       "    <tr>\n",
       "      <th>1</th>\n",
       "      <td>gandhi wibowo</td>\n",
       "      <td>m</td>\n",
       "      <td>13</td>\n",
       "      <td>Gandhi</td>\n",
       "      <td>Wibowo</td>\n",
       "    </tr>\n",
       "    <tr>\n",
       "      <th>2</th>\n",
       "      <td>aldio mahendra purwandrarto</td>\n",
       "      <td>m</td>\n",
       "      <td>27</td>\n",
       "      <td>Aldio</td>\n",
       "      <td>Mahendra</td>\n",
       "    </tr>\n",
       "    <tr>\n",
       "      <th>3</th>\n",
       "      <td>benny putra</td>\n",
       "      <td>m</td>\n",
       "      <td>11</td>\n",
       "      <td>Benny</td>\n",
       "      <td>Putra</td>\n",
       "    </tr>\n",
       "    <tr>\n",
       "      <th>4</th>\n",
       "      <td>vicky vernando dasta</td>\n",
       "      <td>m</td>\n",
       "      <td>20</td>\n",
       "      <td>Vicky</td>\n",
       "      <td>Vernando</td>\n",
       "    </tr>\n",
       "    <tr>\n",
       "      <th>...</th>\n",
       "      <td>...</td>\n",
       "      <td>...</td>\n",
       "      <td>...</td>\n",
       "      <td>...</td>\n",
       "      <td>...</td>\n",
       "    </tr>\n",
       "    <tr>\n",
       "      <th>1955</th>\n",
       "      <td>hadimah</td>\n",
       "      <td>f</td>\n",
       "      <td>7</td>\n",
       "      <td>Hadimah</td>\n",
       "      <td>NaN</td>\n",
       "    </tr>\n",
       "    <tr>\n",
       "      <th>1956</th>\n",
       "      <td>aprillia rahma wati</td>\n",
       "      <td>f</td>\n",
       "      <td>19</td>\n",
       "      <td>Aprillia</td>\n",
       "      <td>Rahma</td>\n",
       "    </tr>\n",
       "    <tr>\n",
       "      <th>1957</th>\n",
       "      <td>muhamad khoirunisa. m</td>\n",
       "      <td>m</td>\n",
       "      <td>21</td>\n",
       "      <td>Muhamad</td>\n",
       "      <td>Khoirunisa.</td>\n",
       "    </tr>\n",
       "    <tr>\n",
       "      <th>1958</th>\n",
       "      <td>sukandi</td>\n",
       "      <td>m</td>\n",
       "      <td>7</td>\n",
       "      <td>Sukandi</td>\n",
       "      <td>NaN</td>\n",
       "    </tr>\n",
       "    <tr>\n",
       "      <th>1959</th>\n",
       "      <td>eem</td>\n",
       "      <td>f</td>\n",
       "      <td>3</td>\n",
       "      <td>Eem</td>\n",
       "      <td>NaN</td>\n",
       "    </tr>\n",
       "  </tbody>\n",
       "</table>\n",
       "<p>1796 rows × 5 columns</p>\n",
       "</div>"
      ],
      "text/plain": [
       "                             Nama Jenis_Kelamin  panjang_nama First_Name  \\\n",
       "0                 hafizhan shidqi             m            15   Hafizhan   \n",
       "1                   gandhi wibowo             m            13     Gandhi   \n",
       "2     aldio mahendra purwandrarto             m            27      Aldio   \n",
       "3                     benny putra             m            11      Benny   \n",
       "4            vicky vernando dasta             m            20      Vicky   \n",
       "...                           ...           ...           ...        ...   \n",
       "1955                      hadimah             f             7    Hadimah   \n",
       "1956          aprillia rahma wati             f            19   Aprillia   \n",
       "1957        muhamad khoirunisa. m             m            21    Muhamad   \n",
       "1958                      sukandi             m             7    Sukandi   \n",
       "1959                          eem             f             3        Eem   \n",
       "\n",
       "        Last_Name  \n",
       "0          Shidqi  \n",
       "1          Wibowo  \n",
       "2        Mahendra  \n",
       "3           Putra  \n",
       "4        Vernando  \n",
       "...           ...  \n",
       "1955          NaN  \n",
       "1956        Rahma  \n",
       "1957  Khoirunisa.  \n",
       "1958          NaN  \n",
       "1959          NaN  \n",
       "\n",
       "[1796 rows x 5 columns]"
      ]
     },
     "execution_count": 32,
     "metadata": {},
     "output_type": "execute_result"
    }
   ],
   "source": [
    "df[\"panjang_nama\"]=df[\"Nama\"].str.len()\n",
    "df"
   ]
  },
  {
   "cell_type": "markdown",
   "id": "d01ffc7c",
   "metadata": {},
   "source": [
    "<h3>distribusi panjang nama</h3>"
   ]
  },
  {
   "cell_type": "code",
   "execution_count": 33,
   "id": "f6f38dc1",
   "metadata": {},
   "outputs": [
    {
     "data": {
      "text/html": [
       "<div>\n",
       "<style scoped>\n",
       "    .dataframe tbody tr th:only-of-type {\n",
       "        vertical-align: middle;\n",
       "    }\n",
       "\n",
       "    .dataframe tbody tr th {\n",
       "        vertical-align: top;\n",
       "    }\n",
       "\n",
       "    .dataframe thead th {\n",
       "        text-align: right;\n",
       "    }\n",
       "</style>\n",
       "<table border=\"1\" class=\"dataframe\">\n",
       "  <thead>\n",
       "    <tr style=\"text-align: right;\">\n",
       "      <th></th>\n",
       "      <th>mean</th>\n",
       "      <th>std_dev</th>\n",
       "      <th>size</th>\n",
       "    </tr>\n",
       "  </thead>\n",
       "  <tbody>\n",
       "    <tr>\n",
       "      <th>0</th>\n",
       "      <td>12.773385</td>\n",
       "      <td>5.085715</td>\n",
       "      <td>1796</td>\n",
       "    </tr>\n",
       "  </tbody>\n",
       "</table>\n",
       "</div>"
      ],
      "text/plain": [
       "        mean   std_dev  size\n",
       "0  12.773385  5.085715  1796"
      ]
     },
     "execution_count": 33,
     "metadata": {},
     "output_type": "execute_result"
    }
   ],
   "source": [
    "average=(df[\"panjang_nama\"]).mean()\n",
    "std_dev=df[\"panjang_nama\"].std()\n",
    "size=df[\"panjang_nama\"].count()\n",
    "df_stat=pd.DataFrame({\n",
    "    \"mean\":[average],\n",
    "    \"std_dev\":[std_dev],\n",
    "    \"size\":[size]\n",
    "})\n",
    "df_stat"
   ]
  },
  {
   "cell_type": "markdown",
   "id": "f3d515b5",
   "metadata": {},
   "source": [
    "<h3>distribusi normal panjang nama</h3>"
   ]
  },
  {
   "cell_type": "code",
   "execution_count": 34,
   "id": "83ded0dc",
   "metadata": {},
   "outputs": [
    {
     "data": {
      "image/png": "[encoded data removed]",
      "text/plain": [
       "<Figure size 640x480 with 1 Axes>"
      ]
     },
     "metadata": {},
     "output_type": "display_data"
    }
   ],
   "source": [
    "plt.hist(df[\"panjang_nama\"], \n",
    "         bins='auto', density=True,\n",
    "         alpha=0.7, color='skyblue', edgecolor='black', label='Data Asli')\n",
    "plt.axvline(average, color='blue', linestyle='dashed', linewidth=2, label='Mean Data')\n",
    "plt.title(\"Distribusi normal panjang nama\")\n",
    "plt.xlabel(\"Panjang Nama\")\n",
    "plt.ylabel(\"Sebaran data\")\n",
    "plt.legend()\n",
    "plt.show()"
   ]
  },
  {
   "cell_type": "markdown",
   "id": "2e8f4e05",
   "metadata": {},
   "source": [
    "<h3>distibusi normal panjang nama theoretical vs data</h3>"
   ]
  },
  {
   "cell_type": "code",
   "execution_count": 35,
   "id": "93c8c858",
   "metadata": {},
   "outputs": [
    {
     "data": {
      "image/png": "[encoded data removed]",
      "text/plain": [
       "<Figure size 640x480 with 1 Axes>"
      ]
     },
     "metadata": {},
     "output_type": "display_data"
    }
   ],
   "source": [
    "# Theoretical data\n",
    "normal_dist = np.random.normal(average, std_dev, size)\n",
    "\n",
    "# overlay\n",
    "plt.hist(normal_dist, \n",
    "         bins='auto', density=True,\n",
    "         color='lightgray', edgecolor='black', alpha=0.4, label='Distribusi Normal')\n",
    "\n",
    "plt.hist(df[\"panjang_nama\"], \n",
    "         bins='auto', density=True,\n",
    "         alpha=0.7, color='skyblue', edgecolor='black', label='Data Asli')\n",
    "\n",
    "# mean\n",
    "plt.axvline(normal_dist.mean(), color='black', linestyle='dashed', linewidth=2, label='Mean Normal')\n",
    "plt.axvline(average, color='blue', linestyle='dashed', linewidth=2, label='Mean Data')\n",
    "\n",
    "# Labels and legend\n",
    "plt.title(\"Perbandingan Distribusi Panjang Nama vs Distribusi Normal\")\n",
    "plt.xlabel(\"Panjang Nama\")\n",
    "plt.ylabel(\"Sebaran data\")\n",
    "plt.legend()\n",
    "plt.show()"
   ]
  },
  {
   "cell_type": "markdown",
   "id": "87f9d393",
   "metadata": {},
   "source": [
    "<h2>panjang nama laki-laki</h2>"
   ]
  },
  {
   "cell_type": "markdown",
   "id": "15ad856a",
   "metadata": {},
   "source": [
    "<h3>distribusi normal panjang nama laki-laki</h3>"
   ]
  },
  {
   "cell_type": "markdown",
   "id": "0fca7294",
   "metadata": {},
   "source": [
    "<h2>panjang nama perempuan</h2>"
   ]
  },
  {
   "cell_type": "markdown",
   "id": "6097df1b",
   "metadata": {},
   "source": [
    "<h3>distribusi normal panjang nama perempuan</h3>"
   ]
  }
 ],
 "metadata": {
  "kernelspec": {
   "display_name": "Python 3",
   "language": "python",
   "name": "python3"
  },
  "language_info": {
   "codemirror_mode": {
    "name": "ipython",
    "version": 3
   },
   "file_extension": ".py",
   "mimetype": "text/x-python",
   "name": "python",
   "nbconvert_exporter": "python",
   "pygments_lexer": "ipython3",
   "version": "3.14.0"
  }
 },
 "nbformat": 4,
 "nbformat_minor": 5
}
