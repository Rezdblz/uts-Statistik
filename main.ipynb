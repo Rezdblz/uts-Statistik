{
 "cells": [
  {
   "cell_type": "markdown",
   "id": "a304ef0b",
   "metadata": {},
   "source": [
    "# Program Visualisasi Data\n",
    "_Daftar Nama dan Jenis Kelamin Masyarakat Indonesia_"
   ]
  },
  {
   "cell_type": "markdown",
   "id": "6c4ae281",
   "metadata": {},
   "source": [
    "**Kontributor:**\n",
    "- Dimas Reza Ardhana (3124600102)\n",
    "- Erik Triayuda Wijaya (3124600094)\n",
    "\n",
    "Program dibuat menggunakan bahasa **Python v3.14.0** dan menggunakan library / depedency:\n",
    "- `pandas` untuk manipulasi data & data frame.\n",
    "- `matplotlib` membuat visualisasi diagram.\n",
    "- `seaborn` bar plots untuk matplot.\n",
    "- `numpy` multi-dimentional array.\n",
    "\n",
    "Program menggunakan Jupyter Notebook untuk mempermudah eksekusi dan pembacaan.\n",
    "\n",
    "Konsep program:\n",
    "- Kode (line 1)\n",
    "- Output (line 2)\n",
    "\n",
    "#### Cara Menjalankan Program\n",
    "1. Jalankan blok kode installasi, import, dan variable definition, atau\n",
    "2. Klik `Run All` atau `Execute Cell` di sebelah kiri blok kode."
   ]
  },
  {
   "cell_type": "code",
   "execution_count": 40,
   "id": "043743f4",
   "metadata": {},
   "outputs": [
    {
     "name": "stdout",
     "output_type": "stream",
     "text": [
      "Requirement already satisfied: pandas in d:\\essential\\python\\lib\\site-packages (2.3.3)\n",
      "Requirement already satisfied: matplotlib in d:\\essential\\python\\lib\\site-packages (3.10.7)\n",
      "Requirement already satisfied: seaborn in d:\\essential\\python\\lib\\site-packages (0.13.2)\n",
      "Requirement already satisfied: numpy in d:\\essential\\python\\lib\\site-packages (2.3.3)\n",
      "Requirement already satisfied: ipywidgets in d:\\essential\\python\\lib\\site-packages (8.1.7)\n",
      "Requirement already satisfied: scipy in d:\\essential\\python\\lib\\site-packages (1.16.2)\n",
      "Requirement already satisfied: python-dateutil>=2.8.2 in d:\\essential\\python\\lib\\site-packages (from pandas) (2.9.0.post0)\n",
      "Requirement already satisfied: pytz>=2020.1 in d:\\essential\\python\\lib\\site-packages (from pandas) (2025.2)\n",
      "Requirement already satisfied: tzdata>=2022.7 in d:\\essential\\python\\lib\\site-packages (from pandas) (2025.2)\n",
      "Requirement already satisfied: contourpy>=1.0.1 in d:\\essential\\python\\lib\\site-packages (from matplotlib) (1.3.3)\n",
      "Requirement already satisfied: cycler>=0.10 in d:\\essential\\python\\lib\\site-packages (from matplotlib) (0.12.1)\n",
      "Requirement already satisfied: fonttools>=4.22.0 in d:\\essential\\python\\lib\\site-packages (from matplotlib) (4.60.1)\n",
      "Requirement already satisfied: kiwisolver>=1.3.1 in d:\\essential\\python\\lib\\site-packages (from matplotlib) (1.4.9)\n",
      "Requirement already satisfied: packaging>=20.0 in d:\\essential\\python\\lib\\site-packages (from matplotlib) (25.0)\n",
      "Requirement already satisfied: pillow>=8 in d:\\essential\\python\\lib\\site-packages (from matplotlib) (11.3.0)\n",
      "Requirement already satisfied: pyparsing>=3 in d:\\essential\\python\\lib\\site-packages (from matplotlib) (3.2.5)\n",
      "Requirement already satisfied: comm>=0.1.3 in d:\\essential\\python\\lib\\site-packages (from ipywidgets) (0.2.3)\n",
      "Requirement already satisfied: ipython>=6.1.0 in d:\\essential\\python\\lib\\site-packages (from ipywidgets) (9.6.0)\n",
      "Requirement already satisfied: traitlets>=4.3.1 in d:\\essential\\python\\lib\\site-packages (from ipywidgets) (5.14.3)\n",
      "Requirement already satisfied: widgetsnbextension~=4.0.14 in d:\\essential\\python\\lib\\site-packages (from ipywidgets) (4.0.14)\n",
      "Requirement already satisfied: jupyterlab_widgets~=3.0.15 in d:\\essential\\python\\lib\\site-packages (from ipywidgets) (3.0.15)\n",
      "Requirement already satisfied: colorama in d:\\essential\\python\\lib\\site-packages (from ipython>=6.1.0->ipywidgets) (0.4.6)\n",
      "Requirement already satisfied: decorator in d:\\essential\\python\\lib\\site-packages (from ipython>=6.1.0->ipywidgets) (5.2.1)\n",
      "Requirement already satisfied: ipython-pygments-lexers in d:\\essential\\python\\lib\\site-packages (from ipython>=6.1.0->ipywidgets) (1.1.1)\n",
      "Requirement already satisfied: jedi>=0.16 in d:\\essential\\python\\lib\\site-packages (from ipython>=6.1.0->ipywidgets) (0.19.2)\n",
      "Requirement already satisfied: matplotlib-inline in d:\\essential\\python\\lib\\site-packages (from ipython>=6.1.0->ipywidgets) (0.1.7)\n",
      "Requirement already satisfied: prompt_toolkit<3.1.0,>=3.0.41 in d:\\essential\\python\\lib\\site-packages (from ipython>=6.1.0->ipywidgets) (3.0.52)\n",
      "Requirement already satisfied: pygments>=2.4.0 in d:\\essential\\python\\lib\\site-packages (from ipython>=6.1.0->ipywidgets) (2.19.2)\n",
      "Requirement already satisfied: stack_data in d:\\essential\\python\\lib\\site-packages (from ipython>=6.1.0->ipywidgets) (0.6.3)\n",
      "Requirement already satisfied: wcwidth in d:\\essential\\python\\lib\\site-packages (from prompt_toolkit<3.1.0,>=3.0.41->ipython>=6.1.0->ipywidgets) (0.2.14)\n",
      "Requirement already satisfied: parso<0.9.0,>=0.8.4 in d:\\essential\\python\\lib\\site-packages (from jedi>=0.16->ipython>=6.1.0->ipywidgets) (0.8.5)\n",
      "Requirement already satisfied: six>=1.5 in d:\\essential\\python\\lib\\site-packages (from python-dateutil>=2.8.2->pandas) (1.17.0)\n",
      "Requirement already satisfied: executing>=1.2.0 in d:\\essential\\python\\lib\\site-packages (from stack_data->ipython>=6.1.0->ipywidgets) (2.2.1)\n",
      "Requirement already satisfied: asttokens>=2.1.0 in d:\\essential\\python\\lib\\site-packages (from stack_data->ipython>=6.1.0->ipywidgets) (3.0.0)\n",
      "Requirement already satisfied: pure-eval in d:\\essential\\python\\lib\\site-packages (from stack_data->ipython>=6.1.0->ipywidgets) (0.2.3)\n",
      "Note: you may need to restart the kernel to use updated packages.\n"
     ]
    }
   ],
   "source": [
    "\n",
    "# JALANKAN BLOK INI TERLEBIH DAHULU SEBELUM YANG LAIN\n",
    "\n",
    "# Instalasi ke-empat paket yang digunakan\n",
    "%pip install pandas matplotlib seaborn numpy ipywidgets scipy\n",
    "\n",
    "# Mengimport paket sebagai variabel untuk digunakan dalam data\n",
    "import pandas as pd\n",
    "import matplotlib.pyplot as plt\n",
    "import seaborn as sns\n",
    "import numpy as np\n",
    "import ipywidgets as widgets\n",
    "from IPython.display import display\n",
    "from scipy import stats\n",
    "\n",
    "# Membaca file sumber: indonesian-names.csv\n",
    "df = pd.read_csv(\"indonesian-names.csv\")"
   ]
  },
  {
   "cell_type": "code",
   "execution_count": 41,
   "id": "163a2b65",
   "metadata": {},
   "outputs": [
    {
     "data": {
      "text/html": [
       "<div>\n",
       "<style scoped>\n",
       "    .dataframe tbody tr th:only-of-type {\n",
       "        vertical-align: middle;\n",
       "    }\n",
       "\n",
       "    .dataframe tbody tr th {\n",
       "        vertical-align: top;\n",
       "    }\n",
       "\n",
       "    .dataframe thead th {\n",
       "        text-align: right;\n",
       "    }\n",
       "</style>\n",
       "<table border=\"1\" class=\"dataframe\">\n",
       "  <thead>\n",
       "    <tr style=\"text-align: right;\">\n",
       "      <th></th>\n",
       "      <th>Nama</th>\n",
       "      <th>Jenis_Kelamin</th>\n",
       "    </tr>\n",
       "  </thead>\n",
       "  <tbody>\n",
       "    <tr>\n",
       "      <th>0</th>\n",
       "      <td>hafizhan shidqi</td>\n",
       "      <td>m</td>\n",
       "    </tr>\n",
       "    <tr>\n",
       "      <th>1</th>\n",
       "      <td>gandhi wibowo</td>\n",
       "      <td>m</td>\n",
       "    </tr>\n",
       "    <tr>\n",
       "      <th>2</th>\n",
       "      <td>aldio mahendra purwandrarto</td>\n",
       "      <td>m</td>\n",
       "    </tr>\n",
       "    <tr>\n",
       "      <th>3</th>\n",
       "      <td>benny putra</td>\n",
       "      <td>m</td>\n",
       "    </tr>\n",
       "    <tr>\n",
       "      <th>4</th>\n",
       "      <td>vicky vernando dasta</td>\n",
       "      <td>m</td>\n",
       "    </tr>\n",
       "    <tr>\n",
       "      <th>...</th>\n",
       "      <td>...</td>\n",
       "      <td>...</td>\n",
       "    </tr>\n",
       "    <tr>\n",
       "      <th>1955</th>\n",
       "      <td>hadimah</td>\n",
       "      <td>f</td>\n",
       "    </tr>\n",
       "    <tr>\n",
       "      <th>1956</th>\n",
       "      <td>aprillia rahma wati</td>\n",
       "      <td>f</td>\n",
       "    </tr>\n",
       "    <tr>\n",
       "      <th>1957</th>\n",
       "      <td>muhamad khoirunisa. m</td>\n",
       "      <td>m</td>\n",
       "    </tr>\n",
       "    <tr>\n",
       "      <th>1958</th>\n",
       "      <td>sukandi</td>\n",
       "      <td>m</td>\n",
       "    </tr>\n",
       "    <tr>\n",
       "      <th>1959</th>\n",
       "      <td>eem</td>\n",
       "      <td>f</td>\n",
       "    </tr>\n",
       "  </tbody>\n",
       "</table>\n",
       "<p>1796 rows × 2 columns</p>\n",
       "</div>"
      ],
      "text/plain": [
       "                             Nama Jenis_Kelamin\n",
       "0                 hafizhan shidqi             m\n",
       "1                   gandhi wibowo             m\n",
       "2     aldio mahendra purwandrarto             m\n",
       "3                     benny putra             m\n",
       "4            vicky vernando dasta             m\n",
       "...                           ...           ...\n",
       "1955                      hadimah             f\n",
       "1956          aprillia rahma wati             f\n",
       "1957        muhamad khoirunisa. m             m\n",
       "1958                      sukandi             m\n",
       "1959                          eem             f\n",
       "\n",
       "[1796 rows x 2 columns]"
      ]
     },
     "execution_count": 41,
     "metadata": {},
     "output_type": "execute_result"
    }
   ],
   "source": [
    "# Memfilter/membersihkan data lalu melihat apakah data telah terbaca dengan benar\n",
    "df = (\n",
    "    df\n",
    "    .dropna()\n",
    "    .drop_duplicates()\n",
    ")\n",
    "df = df.select_dtypes(include='object')\n",
    "\n",
    "df"
   ]
  },
  {
   "cell_type": "markdown",
   "id": "601c4d2f",
   "metadata": {},
   "source": [
    "# Distribusi Nama Berdasarkan Kelamin"
   ]
  },
  {
   "cell_type": "code",
   "execution_count": 42,
   "id": "93f63dd0",
   "metadata": {},
   "outputs": [
    {
     "data": {
      "image/png": "[encoded data removed]",
      "text/plain": [
       "<Figure size 640x480 with 1 Axes>"
      ]
     },
     "metadata": {},
     "output_type": "display_data"
    }
   ],
   "source": [
    "# Mengganti inisial menjadi kata\n",
    "df['Jenis_Kelamin'] = df['Jenis_Kelamin'].replace({'m': 'Laki-Laki', 'f': 'Perempuan'})\n",
    "\n",
    "sns.countplot(\n",
    "    x='Jenis_Kelamin', \n",
    "    data=df,\n",
    "    palette={'Laki-Laki':'skyblue','Perempuan':'pink'},\n",
    "    hue='Jenis_Kelamin',\n",
    "    legend=False\n",
    ")\n",
    "\n",
    "plt.title('Distribusi Nama Berdasarkan Kelamin')\n",
    "plt.xlabel('Jenis Kelamin')\n",
    "plt.ylabel('Jumlah')\n",
    "\n",
    "plt.show()"
   ]
  },
  {
   "cell_type": "markdown",
   "id": "98195a31",
   "metadata": {},
   "source": [
    "## Frekuensi Banyak Kata dalam Sebuah Nama"
   ]
  },
  {
   "cell_type": "code",
   "execution_count": 43,
   "id": "16a66db6",
   "metadata": {},
   "outputs": [
    {
     "data": {
      "image/png": "[encoded data removed]",
      "text/plain": [
       "<Figure size 1000x600 with 1 Axes>"
      ]
     },
     "metadata": {},
     "output_type": "display_data"
    }
   ],
   "source": [
    "df['Word_Count'] = df['Nama'].astype(str).str.split().apply(len)\n",
    "\n",
    "plt.figure(figsize=(10, 6))\n",
    "plt.hist(df['Word_Count'], bins=range(1, df['Word_Count'].max() + 2), color='red', edgecolor='black', alpha=0.7)\n",
    "\n",
    "plt.title('Frekuensi Banyak Kata dalam Sebuah Nama')\n",
    "plt.xlabel('Jumlah Kata')\n",
    "plt.ylabel('Frekuensi')\n",
    "\n",
    "plt.xticks(range(1, df['Word_Count'].max() + 1))\n",
    "plt.show()"
   ]
  },
  {
   "cell_type": "markdown",
   "id": "9b8fef2b",
   "metadata": {},
   "source": [
    "\n",
    "### 10 Nama dengan Frekuensi Paling Sering \n",
    "### persiapan data"
   ]
  },
  {
   "cell_type": "code",
   "execution_count": 44,
   "id": "8bf1ff0b",
   "metadata": {},
   "outputs": [],
   "source": [
    "nama_split = df['Nama'].astype(str).str.split()\n",
    "\n",
    "df['First_Name'] = nama_split.str[0].str.title()\n",
    "df['Last_Name']  = nama_split.str[1].where(nama_split.str.len() >= 2).str.title() \n",
    "\n",
    "# M=muhammad\n",
    "df['First_Name']=df['First_Name'].replace('M.','Muhammad')\n",
    "\n",
    "# Data frame frekuensi nama awal\n",
    "first_name_freq = df['First_Name'].value_counts().reset_index().head(10)\n",
    "first_name_freq.columns = ['First_Name', 'Frekuensi']\n",
    "\n",
    "# Data frame frekuensi nama akhir\n",
    "last_name_freq = df['Last_Name'].value_counts().reset_index().head(10)\n",
    "last_name_freq.columns = ['Last_Name', 'Frekuensi']\n",
    "\n",
    "\n",
    "male_data = df[df['Jenis_Kelamin'] == 'Laki-Laki']\n",
    "female_data = df[df['Jenis_Kelamin'] == 'Perempuan']\n",
    "\n",
    "male_first_name_freq = male_data['First_Name'].value_counts().reset_index().head(10)\n",
    "male_first_name_freq.columns = ['First_Name', 'Frekuensi']\n",
    "\n",
    "female_first_name_freq = female_data['First_Name'].value_counts().reset_index().head(10)\n",
    "female_first_name_freq.columns = ['First_Name', 'Frekuensi']\n",
    "\n",
    "\n",
    "male_last_name_freq = male_data['Last_Name'].value_counts().reset_index().head(10)\n",
    "male_last_name_freq.columns = ['Last_Name', 'Frekuensi']\n",
    "\n",
    "female_last_name_freq = female_data['Last_Name'].value_counts().reset_index().head(10)\n",
    "female_last_name_freq.columns = ['Last_Name', 'Frekuensi']\n",
    "\n"
   ]
  },
  {
   "cell_type": "markdown",
   "id": "b901de10",
   "metadata": {},
   "source": [
    "\n",
    "#### (Bentuk Tabel)"
   ]
  },
  {
   "cell_type": "code",
   "execution_count": 45,
   "id": "c8e5bdbb",
   "metadata": {},
   "outputs": [
    {
     "name": "stdout",
     "output_type": "stream",
     "text": [
      "Top 10 Nama Paling Sering\n"
     ]
    },
    {
     "data": {
      "text/html": [
       "<div>\n",
       "<style scoped>\n",
       "    .dataframe tbody tr th:only-of-type {\n",
       "        vertical-align: middle;\n",
       "    }\n",
       "\n",
       "    .dataframe tbody tr th {\n",
       "        vertical-align: top;\n",
       "    }\n",
       "\n",
       "    .dataframe thead th {\n",
       "        text-align: right;\n",
       "    }\n",
       "</style>\n",
       "<table border=\"1\" class=\"dataframe\">\n",
       "  <thead>\n",
       "    <tr style=\"text-align: right;\">\n",
       "      <th></th>\n",
       "      <th>First_Name</th>\n",
       "      <th>Frekuensi</th>\n",
       "    </tr>\n",
       "  </thead>\n",
       "  <tbody>\n",
       "    <tr>\n",
       "      <th>0</th>\n",
       "      <td>Muhammad</td>\n",
       "      <td>82</td>\n",
       "    </tr>\n",
       "    <tr>\n",
       "      <th>1</th>\n",
       "      <td>Siti</td>\n",
       "      <td>35</td>\n",
       "    </tr>\n",
       "    <tr>\n",
       "      <th>2</th>\n",
       "      <td>Ahmad</td>\n",
       "      <td>25</td>\n",
       "    </tr>\n",
       "    <tr>\n",
       "      <th>3</th>\n",
       "      <td>Sri</td>\n",
       "      <td>17</td>\n",
       "    </tr>\n",
       "    <tr>\n",
       "      <th>4</th>\n",
       "      <td>Nur</td>\n",
       "      <td>15</td>\n",
       "    </tr>\n",
       "    <tr>\n",
       "      <th>5</th>\n",
       "      <td>Dewi</td>\n",
       "      <td>15</td>\n",
       "    </tr>\n",
       "    <tr>\n",
       "      <th>6</th>\n",
       "      <td>Tri</td>\n",
       "      <td>14</td>\n",
       "    </tr>\n",
       "    <tr>\n",
       "      <th>7</th>\n",
       "      <td>Eka</td>\n",
       "      <td>9</td>\n",
       "    </tr>\n",
       "    <tr>\n",
       "      <th>8</th>\n",
       "      <td>Agus</td>\n",
       "      <td>9</td>\n",
       "    </tr>\n",
       "    <tr>\n",
       "      <th>9</th>\n",
       "      <td>Abdul</td>\n",
       "      <td>9</td>\n",
       "    </tr>\n",
       "  </tbody>\n",
       "</table>\n",
       "</div>"
      ],
      "text/plain": [
       "  First_Name  Frekuensi\n",
       "0   Muhammad         82\n",
       "1       Siti         35\n",
       "2      Ahmad         25\n",
       "3        Sri         17\n",
       "4        Nur         15\n",
       "5       Dewi         15\n",
       "6        Tri         14\n",
       "7        Eka          9\n",
       "8       Agus          9\n",
       "9      Abdul          9"
      ]
     },
     "execution_count": 45,
     "metadata": {},
     "output_type": "execute_result"
    }
   ],
   "source": [
    "print(\"Top 10 Nama Paling Sering\")\n",
    "first_name_freq.head(10)"
   ]
  },
  {
   "cell_type": "code",
   "execution_count": 46,
   "id": "237349d1",
   "metadata": {},
   "outputs": [
    {
     "data": {
      "application/vnd.jupyter.widget-view+json": {
       "model_id": "326b3363b0ff42138658ea8a3fc30c64",
       "version_major": 2,
       "version_minor": 0
      },
      "text/plain": [
       "interactive(children=(Dropdown(description='Jenis Kelamin:', options=('Semua', 'Laki-Laki', 'Perempuan'), valu…"
      ]
     },
     "metadata": {},
     "output_type": "display_data"
    }
   ],
   "source": [
    "# Fungsi untuk memperbarui plot berdasarkan pilihan gender dan tipe nama\n",
    "def update_plot(gender, name_type):\n",
    "    plt.figure(figsize=(10, 6))\n",
    "    if name_type == 'Nama Awal':\n",
    "        if gender=='Semua':\n",
    "            sns.barplot(x='Frekuensi', y='First_Name', data=first_name_freq,hue='First_Name', palette='Greens_r')\n",
    "            plt.title('Top 10 Nama Awal')\n",
    "        elif gender == 'Laki-Laki':\n",
    "            sns.barplot(x='Frekuensi', y='First_Name', data=male_first_name_freq,hue='First_Name', palette='Blues_r')\n",
    "            plt.title('Top 10 Nama Awal (Laki-Laki)')\n",
    "        elif gender == 'Perempuan':\n",
    "            sns.barplot(x='Frekuensi', y='First_Name', data=female_first_name_freq,hue='First_Name', palette='Reds_r')\n",
    "            plt.title('Top 10 Nama Awal (Perempuan)')\n",
    "    elif name_type == 'Nama Tengah':\n",
    "        if gender=='Semua':\n",
    "            sns.barplot(x='Frekuensi', y='Last_Name', data=last_name_freq,hue='Last_Name', palette='Greens_r')\n",
    "            plt.title('Top 10 Nama Tengah')\n",
    "        elif gender == 'Laki-Laki':\n",
    "            sns.barplot(x='Frekuensi', y='Last_Name', data=male_last_name_freq,hue='Last_Name', palette='Blues_r')\n",
    "            plt.title('Top 10 Nama Tengah (Laki-Laki)')\n",
    "        elif gender == 'Perempuan':\n",
    "            sns.barplot(x='Frekuensi', y='Last_Name', data=female_last_name_freq,hue='Last_Name', palette='Reds_r')\n",
    "            plt.title('Top 10 Nama Tengah (Perempuan)')\n",
    "    plt.xlabel('Frekuensi')\n",
    "    plt.ylabel(name_type)\n",
    "    plt.show()\n",
    "\n",
    "# Widget dropdown untuk memilih gender dan tipe nama\n",
    "gender_selector = widgets.Dropdown(\n",
    "    options=['Semua','Laki-Laki', 'Perempuan'],\n",
    "    value='Semua',\n",
    "    description='Jenis Kelamin:',\n",
    ")\n",
    "\n",
    "name_type_selector = widgets.Dropdown(\n",
    "    options=['Nama Awal', 'Nama Tengah'],\n",
    "    value='Nama Awal',\n",
    "    description='Tipe Nama:',\n",
    ")\n",
    "\n",
    "# Tampilkan widget dan plot\n",
    "interactive_plot = widgets.interactive(update_plot, gender=gender_selector, name_type=name_type_selector)\n",
    "display(interactive_plot)"
   ]
  },
  {
   "cell_type": "markdown",
   "id": "22d1b376",
   "metadata": {},
   "source": [
    "## Panjang Nama"
   ]
  },
  {
   "cell_type": "markdown",
   "id": "48c17eb8",
   "metadata": {},
   "source": [
    "(dalam bentuk tabel)"
   ]
  },
  {
   "cell_type": "code",
   "execution_count": 47,
   "id": "278b853d",
   "metadata": {},
   "outputs": [
    {
     "data": {
      "text/html": [
       "<div>\n",
       "<style scoped>\n",
       "    .dataframe tbody tr th:only-of-type {\n",
       "        vertical-align: middle;\n",
       "    }\n",
       "\n",
       "    .dataframe tbody tr th {\n",
       "        vertical-align: top;\n",
       "    }\n",
       "\n",
       "    .dataframe thead th {\n",
       "        text-align: right;\n",
       "    }\n",
       "</style>\n",
       "<table border=\"1\" class=\"dataframe\">\n",
       "  <thead>\n",
       "    <tr style=\"text-align: right;\">\n",
       "      <th></th>\n",
       "      <th>Nama</th>\n",
       "      <th>Jenis_Kelamin</th>\n",
       "      <th>Word_Count</th>\n",
       "      <th>First_Name</th>\n",
       "      <th>Last_Name</th>\n",
       "      <th>panjang_nama</th>\n",
       "    </tr>\n",
       "  </thead>\n",
       "  <tbody>\n",
       "    <tr>\n",
       "      <th>0</th>\n",
       "      <td>hafizhan shidqi</td>\n",
       "      <td>Laki-Laki</td>\n",
       "      <td>2</td>\n",
       "      <td>Hafizhan</td>\n",
       "      <td>Shidqi</td>\n",
       "      <td>15</td>\n",
       "    </tr>\n",
       "    <tr>\n",
       "      <th>1</th>\n",
       "      <td>gandhi wibowo</td>\n",
       "      <td>Laki-Laki</td>\n",
       "      <td>2</td>\n",
       "      <td>Gandhi</td>\n",
       "      <td>Wibowo</td>\n",
       "      <td>13</td>\n",
       "    </tr>\n",
       "    <tr>\n",
       "      <th>2</th>\n",
       "      <td>aldio mahendra purwandrarto</td>\n",
       "      <td>Laki-Laki</td>\n",
       "      <td>3</td>\n",
       "      <td>Aldio</td>\n",
       "      <td>Mahendra</td>\n",
       "      <td>27</td>\n",
       "    </tr>\n",
       "    <tr>\n",
       "      <th>3</th>\n",
       "      <td>benny putra</td>\n",
       "      <td>Laki-Laki</td>\n",
       "      <td>2</td>\n",
       "      <td>Benny</td>\n",
       "      <td>Putra</td>\n",
       "      <td>11</td>\n",
       "    </tr>\n",
       "    <tr>\n",
       "      <th>4</th>\n",
       "      <td>vicky vernando dasta</td>\n",
       "      <td>Laki-Laki</td>\n",
       "      <td>3</td>\n",
       "      <td>Vicky</td>\n",
       "      <td>Vernando</td>\n",
       "      <td>20</td>\n",
       "    </tr>\n",
       "    <tr>\n",
       "      <th>...</th>\n",
       "      <td>...</td>\n",
       "      <td>...</td>\n",
       "      <td>...</td>\n",
       "      <td>...</td>\n",
       "      <td>...</td>\n",
       "      <td>...</td>\n",
       "    </tr>\n",
       "    <tr>\n",
       "      <th>1955</th>\n",
       "      <td>hadimah</td>\n",
       "      <td>Perempuan</td>\n",
       "      <td>1</td>\n",
       "      <td>Hadimah</td>\n",
       "      <td>NaN</td>\n",
       "      <td>7</td>\n",
       "    </tr>\n",
       "    <tr>\n",
       "      <th>1956</th>\n",
       "      <td>aprillia rahma wati</td>\n",
       "      <td>Perempuan</td>\n",
       "      <td>3</td>\n",
       "      <td>Aprillia</td>\n",
       "      <td>Rahma</td>\n",
       "      <td>19</td>\n",
       "    </tr>\n",
       "    <tr>\n",
       "      <th>1957</th>\n",
       "      <td>muhamad khoirunisa. m</td>\n",
       "      <td>Laki-Laki</td>\n",
       "      <td>3</td>\n",
       "      <td>Muhamad</td>\n",
       "      <td>Khoirunisa.</td>\n",
       "      <td>21</td>\n",
       "    </tr>\n",
       "    <tr>\n",
       "      <th>1958</th>\n",
       "      <td>sukandi</td>\n",
       "      <td>Laki-Laki</td>\n",
       "      <td>1</td>\n",
       "      <td>Sukandi</td>\n",
       "      <td>NaN</td>\n",
       "      <td>7</td>\n",
       "    </tr>\n",
       "    <tr>\n",
       "      <th>1959</th>\n",
       "      <td>eem</td>\n",
       "      <td>Perempuan</td>\n",
       "      <td>1</td>\n",
       "      <td>Eem</td>\n",
       "      <td>NaN</td>\n",
       "      <td>3</td>\n",
       "    </tr>\n",
       "  </tbody>\n",
       "</table>\n",
       "<p>1796 rows × 6 columns</p>\n",
       "</div>"
      ],
      "text/plain": [
       "                             Nama Jenis_Kelamin  Word_Count First_Name  \\\n",
       "0                 hafizhan shidqi     Laki-Laki           2   Hafizhan   \n",
       "1                   gandhi wibowo     Laki-Laki           2     Gandhi   \n",
       "2     aldio mahendra purwandrarto     Laki-Laki           3      Aldio   \n",
       "3                     benny putra     Laki-Laki           2      Benny   \n",
       "4            vicky vernando dasta     Laki-Laki           3      Vicky   \n",
       "...                           ...           ...         ...        ...   \n",
       "1955                      hadimah     Perempuan           1    Hadimah   \n",
       "1956          aprillia rahma wati     Perempuan           3   Aprillia   \n",
       "1957        muhamad khoirunisa. m     Laki-Laki           3    Muhamad   \n",
       "1958                      sukandi     Laki-Laki           1    Sukandi   \n",
       "1959                          eem     Perempuan           1        Eem   \n",
       "\n",
       "        Last_Name  panjang_nama  \n",
       "0          Shidqi            15  \n",
       "1          Wibowo            13  \n",
       "2        Mahendra            27  \n",
       "3           Putra            11  \n",
       "4        Vernando            20  \n",
       "...           ...           ...  \n",
       "1955          NaN             7  \n",
       "1956        Rahma            19  \n",
       "1957  Khoirunisa.            21  \n",
       "1958          NaN             7  \n",
       "1959          NaN             3  \n",
       "\n",
       "[1796 rows x 6 columns]"
      ]
     },
     "execution_count": 47,
     "metadata": {},
     "output_type": "execute_result"
    }
   ],
   "source": [
    "df[\"panjang_nama\"]=df[\"Nama\"].str.len()\n",
    "df"
   ]
  },
  {
   "cell_type": "markdown",
   "id": "fddf21d7",
   "metadata": {},
   "source": [
    "(dalam bentuk grafik)"
   ]
  },
  {
   "cell_type": "code",
   "execution_count": 48,
   "id": "295f7358",
   "metadata": {},
   "outputs": [
    {
     "data": {
      "application/vnd.jupyter.widget-view+json": {
       "model_id": "10b95115492b45b2a29ab99d885dd9ab",
       "version_major": 2,
       "version_minor": 0
      },
      "text/plain": [
       "interactive(children=(Dropdown(description='Jenis Kelamin:', options=('Semua', 'Laki-Laki', 'Perempuan'), valu…"
      ]
     },
     "metadata": {},
     "output_type": "display_data"
    }
   ],
   "source": [
    "# Filter data berdasarkan gender\n",
    "male_data = df[df['Jenis_Kelamin'] == 'Laki-Laki'].copy()\n",
    "female_data = df[df['Jenis_Kelamin'] == 'Perempuan'].copy()\n",
    "\n",
    "# Hitung panjang nama\n",
    "male_data['panjang_nama'] = male_data['Nama'].str.len()\n",
    "female_data['panjang_nama'] = female_data['Nama'].str.len()\n",
    "\n",
    "#function update plot berdasarkan pilihan gender\n",
    "def update_plot(gender):\n",
    "    plt.figure(figsize=(10, 6))\n",
    "    if gender== 'Semua':\n",
    "        plt.hist(df['panjang_nama'], bins='auto', color='gray', edgecolor='black', alpha=0.7, label='Semua')\n",
    "        plt.title('Distribusi Panjang Nama (Semua)')\n",
    "    elif gender == 'Laki-Laki':\n",
    "        plt.hist(male_data['panjang_nama'], bins='auto', color='blue', edgecolor='black', alpha=0.7)\n",
    "        plt.title('Distribusi Panjang Nama (Laki-Laki)')\n",
    "    elif gender == 'Perempuan':\n",
    "        plt.hist(female_data['panjang_nama'], bins='auto', color='pink', edgecolor='black', alpha=0.7)\n",
    "        plt.title('Distribusi Panjang Nama (Perempuan)')\n",
    "        \n",
    "    # Plot histogram\n",
    "    \n",
    "    plt.xlabel('Panjang Nama')\n",
    "    plt.ylabel('Frekuensi')\n",
    "    plt.show()\n",
    "    \n",
    "gender_selector = widgets.Dropdown(\n",
    "    options=['Semua','Laki-Laki', 'Perempuan'],\n",
    "    value='Semua',\n",
    "    description='Jenis Kelamin:',\n",
    ")\n",
    "\n",
    "interactive_plot = widgets.interactive(update_plot, gender=gender_selector)\n",
    "display(interactive_plot)\n"
   ]
  },
  {
   "cell_type": "markdown",
   "id": "d01ffc7c",
   "metadata": {},
   "source": [
    "### Ukuran Pemusatan dan ukuran penyebaran Panjang Nama"
   ]
  },
  {
   "cell_type": "code",
   "execution_count": 49,
   "id": "f6f38dc1",
   "metadata": {},
   "outputs": [
    {
     "data": {
      "text/html": [
       "<div>\n",
       "<style scoped>\n",
       "    .dataframe tbody tr th:only-of-type {\n",
       "        vertical-align: middle;\n",
       "    }\n",
       "\n",
       "    .dataframe tbody tr th {\n",
       "        vertical-align: top;\n",
       "    }\n",
       "\n",
       "    .dataframe thead th {\n",
       "        text-align: right;\n",
       "    }\n",
       "</style>\n",
       "<table border=\"1\" class=\"dataframe\">\n",
       "  <thead>\n",
       "    <tr style=\"text-align: right;\">\n",
       "      <th></th>\n",
       "      <th>mean</th>\n",
       "      <th>median</th>\n",
       "      <th>modus</th>\n",
       "      <th>range</th>\n",
       "      <th>variance</th>\n",
       "      <th>std_dev</th>\n",
       "      <th>koefisien_variasi</th>\n",
       "      <th>size</th>\n",
       "    </tr>\n",
       "  </thead>\n",
       "  <tbody>\n",
       "    <tr>\n",
       "      <th>0</th>\n",
       "      <td>12.773385</td>\n",
       "      <td>13.0</td>\n",
       "      <td>7</td>\n",
       "      <td>29</td>\n",
       "      <td>25.864495</td>\n",
       "      <td>5.085715</td>\n",
       "      <td>39.814933</td>\n",
       "      <td>1796</td>\n",
       "    </tr>\n",
       "  </tbody>\n",
       "</table>\n",
       "</div>"
      ],
      "text/plain": [
       "        mean  median  modus  range   variance   std_dev  koefisien_variasi  \\\n",
       "0  12.773385    13.0      7     29  25.864495  5.085715          39.814933   \n",
       "\n",
       "   size  \n",
       "0  1796  "
      ]
     },
     "execution_count": 49,
     "metadata": {},
     "output_type": "execute_result"
    }
   ],
   "source": [
    "average=(df[\"panjang_nama\"]).mean()\n",
    "median=df[\"panjang_nama\"].median()\n",
    "mode = df[\"panjang_nama\"].mode()[0]\n",
    "\n",
    "range_p=df[\"panjang_nama\"].max()-df[\"panjang_nama\"].min()\n",
    "variance=df[\"panjang_nama\"].var()\n",
    "std_dev=df[\"panjang_nama\"].std()\n",
    "koef_var=(std_dev/average)*100 \n",
    "\n",
    "size=df[\"panjang_nama\"].count()\n",
    "\n",
    "df_stat=pd.DataFrame({\n",
    "    \"mean\":[average],\n",
    "    \"median\":[median],\n",
    "    \"modus\":[mode],\n",
    "    \"range\":[range_p],\n",
    "    \"variance\":[variance],\n",
    "    \"std_dev\":[std_dev],\n",
    "    \"koefisien_variasi\":[koef_var],\n",
    "    \"size\":[size],\n",
    "    \n",
    "})\n",
    "\n",
    "df_stat"
   ]
  },
  {
   "cell_type": "markdown",
   "id": "f3d515b5",
   "metadata": {},
   "source": [
    "### Distribusi Normal Panjang Nama"
   ]
  },
  {
   "cell_type": "code",
   "execution_count": 50,
   "id": "83ded0dc",
   "metadata": {},
   "outputs": [
    {
     "data": {
      "image/png": "[encoded data removed]",
      "text/plain": [
       "<Figure size 640x480 with 1 Axes>"
      ]
     },
     "metadata": {},
     "output_type": "display_data"
    }
   ],
   "source": [
    "plt.hist(df[\"panjang_nama\"], \n",
    "         bins='auto', density=True,\n",
    "         alpha=0.7, color='skyblue', edgecolor='black', label='Data Asli')\n",
    "plt.axvline(average, color='blue', linestyle='dashed', linewidth=2, label='Mean Data')\n",
    "\n",
    "plt.title(\"Distribusi Normal Panjang Nama\")\n",
    "plt.xlabel(\"Panjang Nama\")\n",
    "plt.ylabel(\"Sebaran data\")\n",
    "\n",
    "plt.legend()\n",
    "plt.show()"
   ]
  },
  {
   "cell_type": "markdown",
   "id": "2e8f4e05",
   "metadata": {},
   "source": [
    "### Distibusi Normal Panjang Nama Theoretical vs Data"
   ]
  },
  {
   "cell_type": "code",
   "execution_count": 51,
   "id": "93c8c858",
   "metadata": {},
   "outputs": [
    {
     "data": {
      "image/png": "[encoded data removed]",
      "text/plain": [
       "<Figure size 640x480 with 1 Axes>"
      ]
     },
     "metadata": {},
     "output_type": "display_data"
    }
   ],
   "source": [
    "# Theoretical data\n",
    "normal_dist = np.random.normal(average, std_dev, size)\n",
    "\n",
    "# overlay\n",
    "plt.hist(normal_dist, \n",
    "         bins='auto', density=True,\n",
    "         color='lightgray', edgecolor='black', alpha=0.4, label='Distribusi Normal')\n",
    "\n",
    "plt.hist(df[\"panjang_nama\"], \n",
    "         bins='auto', density=True,\n",
    "         alpha=0.7, color='skyblue', edgecolor='black', label='Data Asli')\n",
    "\n",
    "# mean\n",
    "plt.axvline(normal_dist.mean(), color='black', linestyle='dashed', linewidth=2, label='Mean Normal')\n",
    "plt.axvline(average, color='blue', linestyle='dashed', linewidth=2, label='Mean Data')\n",
    "\n",
    "# Labels and legend\n",
    "plt.title(\"Perbandingan Distribusi Panjang Nama vs Distribusi Normal\")\n",
    "plt.xlabel(\"Panjang Nama\")\n",
    "plt.ylabel(\"Sebaran data\")\n",
    "\n",
    "plt.legend()\n",
    "plt.show()"
   ]
  },
  {
   "cell_type": "markdown",
   "id": "c129fcaf",
   "metadata": {},
   "source": [
    "### test normal"
   ]
  },
  {
   "cell_type": "code",
   "execution_count": 53,
   "id": "7f80d328",
   "metadata": {},
   "outputs": [
    {
     "name": "stdout",
     "output_type": "stream",
     "text": [
      "d'agostino-pearson stat: 63.16039283156566\n",
      "p-value: 1.9270587680400594e-14\n",
      "data tidak terdistribusi normal\n"
     ]
    }
   ],
   "source": [
    "stat,p= stats.normaltest(df['panjang_nama'])\n",
    "\n",
    "print(\"d'agostino-pearson stat:\", stat)\n",
    "print(\"p-value:\", p)\n",
    "\n",
    "if p>0.05:\n",
    "    print(\"data terdistribusi normal\")\n",
    "else:\n",
    "    print(\"data tidak terdistribusi normal\")\n"
   ]
  }
 ],
 "metadata": {
  "kernelspec": {
   "display_name": "Python 3",
   "language": "python",
   "name": "python3"
  },
  "language_info": {
   "codemirror_mode": {
    "name": "ipython",
    "version": 3
   },
   "file_extension": ".py",
   "mimetype": "text/x-python",
   "name": "python",
   "nbconvert_exporter": "python",
   "pygments_lexer": "ipython3",
   "version": "3.14.0"
  }
 },
 "nbformat": 4,
 "nbformat_minor": 5
}
